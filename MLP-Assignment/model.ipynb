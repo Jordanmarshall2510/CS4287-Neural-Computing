{
 "cells": [
  {
   "cell_type": "code",
   "execution_count": 22,
   "source": [
    "# Jordan Marshall - 18256716 | Marcin Sek - 18254187\n",
    "# [Runs without error]\n",
    "# [Link to original code if used]"
   ],
   "outputs": [],
   "metadata": {}
  },
  {
   "cell_type": "code",
   "execution_count": 29,
   "source": [
    "import pandas as pd\n",
    "\n",
    "dataset = pd.read_csv(\n",
    "    \"star_dataset.csv\",\n",
    "    names=[\"Temperature\", \"Luminosity\", \"Radius\", \"Absolute_Magnitude\", \"Star_Type\", \"Star_Color\", \"Spectral_Class\"],\n",
    "    header=1\n",
    ")\n",
    "dataset.head()\n",
    "print(dataset)"
   ],
   "outputs": [
    {
     "output_type": "stream",
     "name": "stdout",
     "text": [
      "     Temperature     Luminosity     Radius  Absolute_Magnitude  Star_Type  \\\n",
      "0           3042       0.000500     0.1542               16.60          0   \n",
      "1           2600       0.000300     0.1020               18.70          0   \n",
      "2           2800       0.000200     0.1600               16.65          0   \n",
      "3           1939       0.000138     0.1030               20.06          0   \n",
      "4           2840       0.000650     0.1100               16.98          0   \n",
      "..           ...            ...        ...                 ...        ...   \n",
      "234        38940  374830.000000  1356.0000               -9.93          5   \n",
      "235        30839  834042.000000  1194.0000              -10.63          5   \n",
      "236         8829  537493.000000  1423.0000              -10.73          5   \n",
      "237         9235  404940.000000  1112.0000              -11.23          5   \n",
      "238        37882  294903.000000  1783.0000               -7.80          5   \n",
      "\n",
      "    Star_Color Spectral_Class  \n",
      "0          Red              M  \n",
      "1          Red              M  \n",
      "2          Red              M  \n",
      "3          Red              M  \n",
      "4          Red              M  \n",
      "..         ...            ...  \n",
      "234       Blue              O  \n",
      "235       Blue              O  \n",
      "236      White              A  \n",
      "237      White              A  \n",
      "238       Blue              O  \n",
      "\n",
      "[239 rows x 7 columns]\n"
     ]
    }
   ],
   "metadata": {}
  },
  {
   "cell_type": "code",
   "execution_count": 34,
   "source": [
    "import numpy as np\n",
    "\n",
    "%matplotlib inline\n",
    "import matplotlib.pyplot as plt\n",
    "\n",
    "def plotDataset():\n",
    "    \"\"\" Generates a Hertzsprung-Russell Diagram of the Dataset \"\"\"\n",
    "    plt.title(\"Hertzsprung-Russel Diagram\")\n",
    "    plt.xlabel(\"Temperature (K)\")\n",
    "    plt.ylabel(\"Luminosity (solar units)\")\n",
    "\n",
    "    # Parse data in dataset\n",
    "    x = np.arange(0, 5, 0.1)\n",
    "    y = np.sin(x)\n",
    "    plt.plot(x, y)\n",
    "\n",
    "    # Display graph\n",
    "    plt.show()\n",
    "\n",
    "    pass\n",
    "\n",
    "plotDataset()"
   ],
   "outputs": [
    {
     "output_type": "display_data",
     "data": {
      "image/png": "[encoded data removed]",
      "text/plain": [
       "<Figure size 432x288 with 1 Axes>"
      ]
     },
     "metadata": {
      "needs_background": "light"
     }
    }
   ],
   "metadata": {}
  },
  {
   "cell_type": "code",
   "execution_count": 25,
   "source": [
    "import numpy as np\n",
    "\n",
    "import os\n",
    "os.environ[\"CUDA_VISIBLE_DEVICES\"] = \"-1\"\n",
    "\n",
    "import tensorflow as tf\n",
    "from tensorflow.keras import layers\n",
    "from tensorflow.keras.layers.experimental import preprocessing\n",
    "\n",
    "def createModel():\n",
    "    pass\n",
    "\n",
    "def predict():\n",
    "    pass\n",
    "\n",
    "def trainModel():\n",
    "    pass\n",
    "\n",
    "def plotModel():\n",
    "    pass"
   ],
   "outputs": [],
   "metadata": {}
  }
 ],
 "metadata": {
  "interpreter": {
   "hash": "93249f57d99a7eb7e8b07f6cf9f203b98bfee7f3c9867d05611967e6500a125a"
  },
  "kernelspec": {
   "name": "python3",
   "display_name": "Python 3.8.10 64-bit ('env': venv)"
  },
  "language_info": {
   "name": "python",
   "version": "3.8.10",
   "mimetype": "text/x-python",
   "codemirror_mode": {
    "name": "ipython",
    "version": 3
   },
   "pygments_lexer": "ipython3",
   "nbconvert_exporter": "python",
   "file_extension": ".py"
  }
 },
 "nbformat": 4,
 "nbformat_minor": 5
}