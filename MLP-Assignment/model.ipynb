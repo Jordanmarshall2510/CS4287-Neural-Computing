{
 "cells": [
  {
   "cell_type": "code",
   "execution_count": null,
   "source": [
    "# Jordan Marshall - 18256716 | Marcin Sek - 18254187\n",
    "# [Runs without error]\n",
    "# [Link to original code if used]"
   ],
   "outputs": [],
   "metadata": {}
  },
  {
   "cell_type": "code",
   "execution_count": null,
   "source": [
    "import pandas as pd\n",
    "import numpy as np\n",
    "\n",
    "import os\n",
    "os.environ[\"CUDA_VISIBLE_DEVICES\"] = \"-1\"\n",
    "\n",
    "import tensorflow as tf\n",
    "from tensorflow.keras import layers\n",
    "from tensorflow.keras.layers.experimental import preprocessing\n",
    "\n",

    "dataset = pd.read_csv(\n",
    "    \"star_dataset.csv\",\n",
    "    names=[\"Temperature\", \"Luminosity\", \"Radius\", \"Absolute_Magnitude\", \"Star_Type\", \"Star_Color\", \"Spectral_Class\"],\n",
    "    header=1\n",
    ")\n",
    "dataset.head()\n",
    "print(dataset)\n",
    "\n",
    "def createModel():\n",
    "    pass\n",
    "\n",
    "def predict():\n",
    "    pass\n",
    "\n",
    "def trainModel():\n",
    "    pass\n",
    "\n",
    "def plotModel():\n",
    "    pass"
   ],
   "outputs": [],
   "metadata": {}
  }
 ],
 "metadata": {
  "interpreter": {
   "hash": "93249f57d99a7eb7e8b07f6cf9f203b98bfee7f3c9867d05611967e6500a125a"
  },
  "kernelspec": {
   "name": "python3",
   "display_name": "Python 3.8.10 64-bit ('env': venv)"
  },
  "language_info": {
   "name": "python",
   "version": "3.8.10",
   "mimetype": "text/x-python",
   "codemirror_mode": {
    "name": "ipython",
    "version": 3
   },
   "pygments_lexer": "ipython3",
   "nbconvert_exporter": "python",
   "file_extension": ".py"
  }
 },
 "nbformat": 4,
 "nbformat_minor": 5
}
